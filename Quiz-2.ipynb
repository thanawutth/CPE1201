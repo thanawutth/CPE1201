{
 "cells": [
  {
   "cell_type": "code",
   "execution_count": 1,
   "metadata": {},
   "outputs": [],
   "source": [
    "import random\n",
    "A = [ random.randint(1, 100) for _ in range(0, int(100)) ]\n",
    "CountOdd  = 0\n",
    "CountEven = 0"
   ]
  },
  {
   "cell_type": "code",
   "execution_count": 2,
   "metadata": {},
   "outputs": [
    {
     "name": "stdout",
     "output_type": "stream",
     "text": [
      "[6, 2, 72, 89, 23, 40, 75, 12, 29, 39, 18, 72, 45, 23, 86, 32, 20, 52, 60, 30, 9, 6, 84, 18, 23, 72, 38, 45, 39, 66, 90, 19, 62, 90, 53, 94, 93, 1, 33, 24, 33, 14, 45, 65, 7, 3, 87, 6, 69, 10, 54, 14, 84, 19, 3, 60, 68, 72, 80, 77, 19, 29, 11, 25, 63, 17, 52, 27, 11, 32, 79, 7, 41, 56, 78, 89, 53, 91, 28, 72, 94, 3, 49, 16, 81, 6, 92, 95, 22, 25, 35, 35, 50, 85, 41, 38, 87, 36, 52, 73]\n"
     ]
    }
   ],
   "source": [
    "print(A)"
   ]
  },
  {
   "cell_type": "code",
   "execution_count": 3,
   "metadata": {},
   "outputs": [],
   "source": [
    "for i in range(len(A)):\n",
    "    if A[i] % 2 == 0 :\n",
    "        CountEven += 1 \n",
    "    else:\n",
    "        CountOdd += 1\n"
   ]
  },
  {
   "cell_type": "code",
   "execution_count": 4,
   "metadata": {},
   "outputs": [
    {
     "name": "stdout",
     "output_type": "stream",
     "text": [
      "Number of Even : 49\n",
      "Number of Odd : 51\n"
     ]
    }
   ],
   "source": [
    "print(\"Number of Even : \" + str(CountEven))\n",
    "print(\"Number of Odd : \" + str(CountOdd))"
   ]
  },
  {
   "cell_type": "code",
   "execution_count": 5,
   "metadata": {},
   "outputs": [
    {
     "name": "stdout",
     "output_type": "stream",
     "text": [
      "Average : 45.49\n",
      "Maximum : 95\n",
      "Minimum : 1\n"
     ]
    }
   ],
   "source": [
    "print(\"Average : \" + str(sum(A)/len(A)))\n",
    "print(\"Maximum : \" + str(max(A)))\n",
    "print(\"Minimum : \" + str(min(A)))"
   ]
  },
  {
   "cell_type": "code",
   "execution_count": 6,
   "metadata": {},
   "outputs": [
    {
     "name": "stdout",
     "output_type": "stream",
     "text": [
      "[[3, 2, 5, 3, 1], [4, 2, 1, 5, 8], [2, 1, 5, 6, 9]]\n"
     ]
    }
   ],
   "source": [
    "A = [ [3,2,5,3,1], \n",
    "      [4,2,1,5,8],\n",
    "      [2,1,5,6,9]  ]\n",
    "print(A)"
   ]
  },
  {
   "cell_type": "code",
   "execution_count": 7,
   "metadata": {},
   "outputs": [
    {
     "name": "stdout",
     "output_type": "stream",
     "text": [
      "[0, 0, 0]\n"
     ]
    }
   ],
   "source": [
    "ArSum = [0 for _ in range(0, len(A))]\n",
    "print(ArSum)"
   ]
  },
  {
   "cell_type": "code",
   "execution_count": 12,
   "metadata": {},
   "outputs": [
    {
     "name": "stdout",
     "output_type": "stream",
     "text": [
      "14\n",
      "20\n",
      "23\n",
      "Maximum row : 23\n",
      "Index Max : 2\n"
     ]
    }
   ],
   "source": [
    "for i in  range(0, len(A)):\n",
    "    print(sum(A[i]))\n",
    "    ArSum[i] = sum(A[i])\n",
    "print(\"Maximum row : \" + str(max(ArSum)))\n",
    "print(\"Index Max : \" + str(ArSum.index(max(ArSum))))"
   ]
  },
  {
   "cell_type": "code",
   "execution_count": 18,
   "metadata": {},
   "outputs": [
    {
     "name": "stdout",
     "output_type": "stream",
     "text": [
      "Team A : [7, 7, 7, 6, 3, 3, 8, 5, 9, 7]\n",
      "Team B : [6, 3, 6, 10, 3, 9, 3, 1, 4, 1]\n"
     ]
    }
   ],
   "source": [
    "A = [ random.randint(0, 10) for _ in range(0, int(10) ) ]\n",
    "B = [ random.randint(0, 10) for _ in range(0, int(10) ) ]\n",
    "print(\"Team A : \" + str(A))\n",
    "print(\"Team B : \" + str(B))\n",
    "ScoreA = 0\n",
    "ScoreB = 0"
   ]
  },
  {
   "cell_type": "code",
   "execution_count": 20,
   "metadata": {},
   "outputs": [
    {
     "name": "stdout",
     "output_type": "stream",
     "text": [
      "Team A is the winner.\n"
     ]
    }
   ],
   "source": [
    "for i in range(len(A)):\n",
    "    if A[i] > B[i]:\n",
    "        ScoreA += 1\n",
    "    elif B[i] > A[i] :\n",
    "        ScoreB += 1\n",
    "if ScoreA > ScoreB:\n",
    "    print(\"Team A is the winner.\")\n",
    "elif ScoreB > ScoreA:\n",
    "    print(\"Team B is the winner.\")\n",
    "else:\n",
    "    print(\"Team A and B is the winner.\")\n",
    "        "
   ]
  }
 ],
 "metadata": {
  "kernelspec": {
   "display_name": "Python 3",
   "language": "python",
   "name": "python3"
  },
  "language_info": {
   "codemirror_mode": {
    "name": "ipython",
    "version": 3
   },
   "file_extension": ".py",
   "mimetype": "text/x-python",
   "name": "python",
   "nbconvert_exporter": "python",
   "pygments_lexer": "ipython3",
   "version": "3.8.6"
  }
 },
 "nbformat": 4,
 "nbformat_minor": 4
}
