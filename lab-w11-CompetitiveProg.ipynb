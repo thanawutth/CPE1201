{
 "cells": [
  {
   "cell_type": "code",
   "execution_count": 30,
   "metadata": {},
   "outputs": [
    {
     "name": "stdout",
     "output_type": "stream",
     "text": [
      "ป้อนจำนวนโรงงาน : 5\n"
     ]
    }
   ],
   "source": [
    "import random\n",
    "n = input(\"ป้อนจำนวนโรงงาน : \")"
   ]
  },
  {
   "cell_type": "code",
   "execution_count": 51,
   "metadata": {},
   "outputs": [
    {
     "name": "stdout",
     "output_type": "stream",
     "text": [
      "[4, 5, 7, 4, 4]\n"
     ]
    }
   ],
   "source": [
    "f = [random.randint(1, 10) for _ in range(0, int(n))]\n",
    "#for i in range(int(n)):\n",
    "#    v = input(\"ป้อนกำไรโรงงานที่ \" + str(i+1) + \" เท่ากับ : \")\n",
    "#    f.append(int(v))\n",
    "print(f)"
   ]
  },
  {
   "cell_type": "code",
   "execution_count": 54,
   "metadata": {},
   "outputs": [
    {
     "name": "stdout",
     "output_type": "stream",
     "text": [
      "4\n"
     ]
    }
   ],
   "source": [
    "avg = int( sum(f)/int(n))\n",
    "print(avg)"
   ]
  },
  {
   "cell_type": "code",
   "execution_count": 55,
   "metadata": {},
   "outputs": [],
   "source": [
    "SumGroup1 = 0\n",
    "SumGroup3 = 0\n",
    "Start2 = -1\n",
    "Start3 = -1"
   ]
  },
  {
   "cell_type": "code",
   "execution_count": 56,
   "metadata": {},
   "outputs": [
    {
     "name": "stdout",
     "output_type": "stream",
     "text": [
      "2\n",
      "4\n"
     ]
    }
   ],
   "source": [
    "i = 0\n",
    "while SumGroup1 < avg : \n",
    "    SumGroup1 = SumGroup1 + f[i]\n",
    "    i = i + 1\n",
    "Start2 = i + 1\n",
    "print(Start2)\n",
    "i = len(f) - 1\n",
    "while SumGroup3 < avg : \n",
    "    SumGroup3 = SumGroup3 + f[i]\n",
    "    i = i - 1\n",
    "Start3 = i + 1\n",
    "print(Start3)"
   ]
  }
 ],
 "metadata": {
  "kernelspec": {
   "display_name": "Python 3",
   "language": "python",
   "name": "python3"
  },
  "language_info": {
   "codemirror_mode": {
    "name": "ipython",
    "version": 3
   },
   "file_extension": ".py",
   "mimetype": "text/x-python",
   "name": "python",
   "nbconvert_exporter": "python",
   "pygments_lexer": "ipython3",
   "version": "3.8.6"
  }
 },
 "nbformat": 4,
 "nbformat_minor": 4
}
