{
 "cells": [
  {
   "cell_type": "code",
   "execution_count": 22,
   "metadata": {},
   "outputs": [
    {
     "name": "stdout",
     "output_type": "stream",
     "text": [
      "12\n"
     ]
    }
   ],
   "source": [
    "# pip install jupyterlab  \n",
    "# or pip install notebook\n",
    "# jupyter notebook\n",
    "\n",
    "sum = 0\n",
    "N = 345\n",
    "sum = sum + N%10 # sum += N%10\n",
    "N = N - (N%10)\n",
    "sum = sum + int((N%100)/10)\n",
    "N = N - (N%100)\n",
    "sum = sum + int((N%1000)/100)\n",
    "print(sum)\n",
    "# ===== Sequence แบบลำดับ ==============="
   ]
  },
  {
   "cell_type": "code",
   "execution_count": 28,
   "metadata": {},
   "outputs": [
    {
     "name": "stdout",
     "output_type": "stream",
     "text": [
      "97\n"
     ]
    }
   ],
   "source": [
    "# ? ถ้ามีตัวเลขมีหลักมากๆ เช่น 10 หรือ 15 หลักเราจะเขียนโปรแกรมอย่างไรดี\n",
    "sum = 0\n",
    "i = 1\n",
    "N = 342340978923412309909123\n",
    "while N > 0 :\n",
    "    sum = sum + int( (N%(i*10)/i ))\n",
    "    N = N - (N%(i*10))\n",
    "    i = i * 10\n",
    "print(sum)"
   ]
  }
 ],
 "metadata": {
  "kernelspec": {
   "display_name": "Python 3",
   "language": "python",
   "name": "python3"
  },
  "language_info": {
   "codemirror_mode": {
    "name": "ipython",
    "version": 3
   },
   "file_extension": ".py",
   "mimetype": "text/x-python",
   "name": "python",
   "nbconvert_exporter": "python",
   "pygments_lexer": "ipython3",
   "version": "3.8.6"
  }
 },
 "nbformat": 4,
 "nbformat_minor": 4
}
