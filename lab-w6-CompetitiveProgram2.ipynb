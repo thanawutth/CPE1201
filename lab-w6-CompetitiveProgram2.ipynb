{
 "cells": [
  {
   "cell_type": "code",
   "execution_count": 25,
   "metadata": {},
   "outputs": [
    {
     "name": "stdout",
     "output_type": "stream",
     "text": [
      "i : 0 j : 0 sum = 0 MAXSUM = -999999999\n",
      "i : 0 j : 1 sum = -2 MAXSUM = 0\n",
      "i : 0 j : 2 sum = -3 MAXSUM = 0\n",
      "i : 0 j : 3 sum = 6 MAXSUM = 0\n",
      "i : 0 j : 4 sum = 1 MAXSUM = 6\n",
      "i : 0 j : 5 sum = 21 MAXSUM = 6\n",
      "i : 0 j : 6 sum = 17 MAXSUM = 21\n",
      "i : 0 j : 7 sum = 10 MAXSUM = 21\n",
      "i : 1 j : 1 sum = 0 MAXSUM = 21\n",
      "i : 1 j : 2 sum = -1 MAXSUM = 21\n",
      "i : 1 j : 3 sum = 8 MAXSUM = 21\n",
      "i : 1 j : 4 sum = 3 MAXSUM = 21\n",
      "i : 1 j : 5 sum = 23 MAXSUM = 21\n",
      "i : 1 j : 6 sum = 19 MAXSUM = 23\n",
      "i : 1 j : 7 sum = 12 MAXSUM = 23\n",
      "i : 2 j : 2 sum = 0 MAXSUM = 23\n",
      "i : 2 j : 3 sum = 9 MAXSUM = 23\n",
      "i : 2 j : 4 sum = 4 MAXSUM = 23\n",
      "i : 2 j : 5 sum = 24 MAXSUM = 23\n",
      "i : 2 j : 6 sum = 20 MAXSUM = 24\n",
      "i : 2 j : 7 sum = 13 MAXSUM = 24\n",
      "i : 3 j : 3 sum = 0 MAXSUM = 24\n",
      "i : 3 j : 4 sum = -5 MAXSUM = 24\n",
      "i : 3 j : 5 sum = 15 MAXSUM = 24\n",
      "i : 3 j : 6 sum = 11 MAXSUM = 24\n",
      "i : 3 j : 7 sum = 4 MAXSUM = 24\n",
      "i : 4 j : 4 sum = 0 MAXSUM = 24\n",
      "i : 4 j : 5 sum = 20 MAXSUM = 24\n",
      "i : 4 j : 6 sum = 16 MAXSUM = 24\n",
      "i : 4 j : 7 sum = 9 MAXSUM = 24\n",
      "i : 5 j : 5 sum = 0 MAXSUM = 24\n",
      "i : 5 j : 6 sum = -4 MAXSUM = 24\n",
      "i : 5 j : 7 sum = -11 MAXSUM = 24\n",
      "i : 6 j : 6 sum = 0 MAXSUM = 24\n",
      "i : 6 j : 7 sum = -7 MAXSUM = 24\n",
      "i : 7 j : 7 sum = 0 MAXSUM = 24\n",
      "2 5\n"
     ]
    }
   ],
   "source": [
    "A = [-2, -1, 9,  -5,  20, -4,  -7, 3]\n",
    "start = 0\n",
    "end   = 0\n",
    "Sum   = -999999999\n",
    "for i in range(len(A)):\n",
    "    j = i\n",
    "    while j < len(A):\n",
    "        print(\"i : \" + str(i) + \" j : \" + str(j) + \" sum = \" + str(sum(A[i:j])) + \" MAXSUM = \" + str(Sum) )\n",
    "        if (sum(A[i:j]) > Sum):\n",
    "            start = i\n",
    "            end   = j\n",
    "            Sum = sum(A[i:j])\n",
    "        j += 1\n",
    "print(start,end)"
   ]
  },
  {
   "cell_type": "code",
   "execution_count": 27,
   "metadata": {},
   "outputs": [
    {
     "name": "stdout",
     "output_type": "stream",
     "text": [
      "[1, 2, 1, 3, 2, 2, 2, 2, 3, 2]\n",
      "[1, 1, 2, 2, 2, 2, 2, 2, 3, 3]\n"
     ]
    }
   ],
   "source": [
    "import random\n",
    "A = [random.randint(1,3) for _ in range(0,10)]\n",
    "print(A)\n",
    "A.sort()\n",
    "print(A)"
   ]
  },
  {
   "cell_type": "code",
   "execution_count": 28,
   "metadata": {},
   "outputs": [
    {
     "name": "stdout",
     "output_type": "stream",
     "text": [
      "2\n"
     ]
    }
   ],
   "source": [
    "target = int(len(A)/2)\n",
    "print(A[target])"
   ]
  },
  {
   "cell_type": "code",
   "execution_count": 29,
   "metadata": {},
   "outputs": [
    {
     "name": "stdout",
     "output_type": "stream",
     "text": [
      "Majority is 2.\n"
     ]
    }
   ],
   "source": [
    "count = A.count(A[target])\n",
    "if count >= int(len(A)/2):\n",
    "    print(\"Majority is \" + str(A[target]) + \".\")\n",
    "else:\n",
    "    print(\"No one is majority number.\")"
   ]
  }
 ],
 "metadata": {
  "kernelspec": {
   "display_name": "Python 3",
   "language": "python",
   "name": "python3"
  },
  "language_info": {
   "codemirror_mode": {
    "name": "ipython",
    "version": 3
   },
   "file_extension": ".py",
   "mimetype": "text/x-python",
   "name": "python",
   "nbconvert_exporter": "python",
   "pygments_lexer": "ipython3",
   "version": "3.8.6"
  }
 },
 "nbformat": 4,
 "nbformat_minor": 4
}
